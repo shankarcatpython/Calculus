{
  "nbformat": 4,
  "nbformat_minor": 0,
  "metadata": {
    "colab": {
      "private_outputs": true,
      "provenance": [],
      "authorship_tag": "ABX9TyPx8bEjH3BimqtGRuS+5QTl"
    },
    "kernelspec": {
      "name": "python3",
      "display_name": "Python 3"
    },
    "language_info": {
      "name": "python"
    }
  },
  "cells": [
    {
      "cell_type": "code",
      "execution_count": null,
      "metadata": {
        "id": "qa8FQeuxav-F"
      },
      "outputs": [],
      "source": [
        "import numpy as np\n",
        "\n",
        "# Assuming you have two arrays: array1 and array2 (from the database)\n",
        "array1 = np.array([1, 2, 3])\n",
        "array2 = np.array([[4,1,3], [5,2,3], [1,2,3]])  # Column of array2\n",
        "\n",
        "# Perform dot product\n",
        "dot_product = np.dot(array1, array2)\n",
        "\n",
        "print(dot_product)"
      ]
    }
  ]
}